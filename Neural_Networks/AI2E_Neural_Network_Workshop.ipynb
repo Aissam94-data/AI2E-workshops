{
  "nbformat": 4,
  "nbformat_minor": 0,
  "metadata": {
    "colab": {
      "name": "AI2E_Neural_Network_Workshop.ipynb",
      "provenance": [],
      "collapsed_sections": []
    },
    "kernelspec": {
      "name": "python3",
      "display_name": "Python 3"
    }
  },
  "cells": [
    {
      "cell_type": "markdown",
      "metadata": {
        "id": "m8YthVz12tvD",
        "colab_type": "text"
      },
      "source": [
        "#what is a deep learning framework ?\n",
        "A Deep Learning is simply a tool or an interface, that makes us able to build, manage and use Deep Learning models, such as Neural Networks. It can be low-level, which means that the programmer can intervene on the Model structure in detail, or high-level which gives more abstraction in the management.\n",
        "\n",
        "#Some DL frameworks\n",
        "TensorFlow, PyTorch, Keras, Sonnet, MXnet...\n",
        "\n",
        "About PyTorch :\n",
        "Intially developed for Facebook services but is already used for its own tasks by companies like Twitter. Based on Torch library, PyTorch deals with \"Tensors\", which are just some kind of arrays, that can tap into the resources of a GPU (Graphic Processing Unit) to significantly speed up matrix operations. To accelerate the process in another way, PyTorch has the Autograd Module, which makes it able to use Automatic Differentiation, that can computes the derivative of the loss function is a very faster way.\n",
        "\n",
        "#Pytorch vs TensorFlow\n",
        "In Tensorflow, you first have to define the entire computation graph of the model and then run your ML model. But in PyTorch, you can define & manipulate your graph on-the-go. Also, PyTorch is very *pythonic* : It uses the style and powers of python, which makes it much easier and simpler to understand and use. Especially for Python coders. In Tensorflow, you need to learn a lot of *Tensorflow-specific jargon*.\n",
        "\n",
        "\\\n",
        "In this tutorial, we're gonna build a standard Neural Network, using PyTorch, to recognize hand written digits in the famous MNIST dataset. We're gonna see how can the choice of the activation function, batch size, epochs number...and other parameters influence the efficiency of our model.\n",
        " \n",
        "\n"
      ]
    },
    {
      "cell_type": "code",
      "metadata": {
        "id": "afRHHr5OcPHD",
        "colab_type": "code",
        "colab": {}
      },
      "source": [
        "import torch\n",
        "from torch import nn\n",
        "import torch.nn.functional as F\n",
        "\n",
        "import matplotlib.pyplot as plt\n",
        "import numpy as np"
      ],
      "execution_count": 0,
      "outputs": []
    },
    {
      "cell_type": "markdown",
      "metadata": {
        "id": "U4VrGdkjHVrb",
        "colab_type": "text"
      },
      "source": [
        "#Mnist dataset\n",
        "MNIST is a large database of handwritten digits that is commonly used for training various image processing systems. It contains 60,000 training images and 10,000 testing images.  In the original paper, the authors use a support-vector machine to get an error rate of 0.8%.\n"
      ]
    },
    {
      "cell_type": "code",
      "metadata": {
        "id": "wGNaNhByF6b_",
        "colab_type": "code",
        "outputId": "58d47c24-ddbc-4bf1-c384-8608fd030646",
        "colab": {
          "base_uri": "https://localhost:8080/",
          "height": 382
        }
      },
      "source": [
        "from torchvision import datasets, transforms\n",
        "\n",
        "# Define a transform to convert the data to pytorch's tensor object\n",
        "transform = transforms.Compose([transforms.ToTensor()])\n",
        "\n",
        "# Download and load the training data\n",
        "dataset = datasets.MNIST('~/.pytorch/MNIST_data/', download=True, train=True, transform=transform)\n",
        "\n",
        "images = dataset.data.float()\n",
        "classes = dataset.classes\n",
        "labels = dataset.targets\n",
        "\n",
        "print(type(images))\n",
        "print(images.shape)\n",
        "print(classes, \"\\n num classes : \", len(classes))\n",
        "print(labels.shape)\n",
        "\n",
        "img = 1\n",
        "plt.title(classes[labels[img]])\n",
        "plt.imshow(images[img].numpy().squeeze(), cmap='Greys_r')"
      ],
      "execution_count": 93,
      "outputs": [
        {
          "output_type": "stream",
          "text": [
            "<class 'torch.Tensor'>\n",
            "torch.Size([60000, 28, 28])\n",
            "['0 - zero', '1 - one', '2 - two', '3 - three', '4 - four', '5 - five', '6 - six', '7 - seven', '8 - eight', '9 - nine'] \n",
            " num classes :  10\n",
            "torch.Size([60000])\n"
          ],
          "name": "stdout"
        },
        {
          "output_type": "execute_result",
          "data": {
            "text/plain": [
              "<matplotlib.image.AxesImage at 0x7fe822e8c208>"
            ]
          },
          "metadata": {
            "tags": []
          },
          "execution_count": 93
        },
        {
          "output_type": "display_data",
          "data": {
            "image/png": "[encoded data removed]",
            "text/plain": [
              "<Figure size 432x288 with 1 Axes>"
            ]
          },
          "metadata": {
            "tags": [],
            "needs_background": "light"
          }
        }
      ]
    },
    {
      "cell_type": "markdown",
      "metadata": {
        "id": "unb97kWTNSLa",
        "colab_type": "text"
      },
      "source": [
        "#network definition in Pytorch\n",
        "Neural networks can be constructed using the torch.nn package. We just have to define the forward function, and the backward function (where gradients are computed) is automatically defined for you using autograd. You can use any of the Tensor operations in the forward function.\n",
        "\n",
        "- if possible, a graphical representation of the implemented neural network"
      ]
    },
    {
      "cell_type": "code",
      "metadata": {
        "id": "9JOJQEWGcZHX",
        "colab_type": "code",
        "colab": {}
      },
      "source": [
        "class Network(torch.nn.Module):\n",
        "    def __init__(self):\n",
        "        super().__init__()\n",
        "\n",
        "        # Weights matrix for hidden layer 1\n",
        "        self.W_1 = nn.Parameter(torch.Tensor(input_layer_size, output_layer_size))\n",
        "        self.b_1 = nn.Parameter(torch.Tensor(input_layer_size, output_layer_size))\n",
        "        #Alternatively \n",
        "        # Inputs to hidden layer 1 linear transformation\n",
        "        #self.hidden = nn.Linear(layer_input_size, layer_output_size)\n",
        "\n",
        "        # Weights matrix for hidden layer 2\n",
        "        self.W_2 = nn.Parameter(torch.Tensor(input_layer_size, output_layer_size))\n",
        "        self.b_2 = nn.Parameter(torch.Tensor(input_layer_size, output_layer_size))\n",
        "        #Alternatively \n",
        "        # Inputs to hidden layer 2 linear transformation\n",
        "        #self.hidden = nn.Linear(layer_input_size, layer_output_size)\n",
        "\n",
        "        # Weights matrix for out layer\n",
        "        self.W_out = nn.Parameter(torch.Tensor(input_layer_size, output_layer_size))\n",
        "        self.b_out = nn.Parameter(torch.Tensor(input_layer_size, output_layer_size))\n",
        "        #Alternatively\n",
        "        # Output layer\n",
        "        #self.output = nn.Linear(ayer_input_size, layer_output_size)\n",
        "        self.init_params()\n",
        "      \n",
        "    def init_params(self):\n",
        "      self.W_1.data.normal_(std=0.01)\n",
        "      self.b_1.data.fill_(0)\n",
        "      self.W_2.data.normal_(std=0.01)\n",
        "      self.b_2.data.fill_(0)\n",
        "      self.W_out.data.normal_(std=0.01)\n",
        "      self.b_out.data.fill_(0)\n",
        "\n",
        "    def forward(self, x, log=False):\n",
        "        if log :\n",
        "          print(\"=======forward pass=======\")\n",
        "          print(\"data on input layer\")\n",
        "          plt.imshow(x.contiguous().detach().view(28,28).numpy(), cmap='Greys_r')\n",
        "          plt.show()\n",
        "        # Hidden layer 1 with sigmoid activation\n",
        "        x = torch.matmul(x, self.W_1)\n",
        "        x = x + self.b_1\n",
        "        if log :\n",
        "          print(\"data after layer 1 forward function\")\n",
        "          plt.imshow(x.contiguous().detach().view(16,16).numpy(), cmap='Greys_r')\n",
        "          plt.show()\n",
        "\n",
        "        x = F.sigmoid(x)\n",
        "        if log :\n",
        "          print(\"data after layer 1 activation function\")\n",
        "          plt.imshow(x.contiguous().detach().view(16,16).numpy(), cmap='Greys_r')\n",
        "          plt.show()\n",
        "        #Alternatively\n",
        "        #x = F.sigmoid(self.hidden(x))\n",
        "\n",
        "        # Hidden layer 2 with sigmoid activation\n",
        "        x = torch.matmul(x, self.W_2)\n",
        "        x = x + self.b_2\n",
        "        if log :\n",
        "          print(\"data after layer 2 forward function\")\n",
        "          plt.imshow(x.contiguous().detach().view(8,8).numpy(), cmap='Greys_r')\n",
        "          plt.show()\n",
        "        \n",
        "        x = F.sigmoid(x)\n",
        "        if log :\n",
        "          print(\"data after layer 2 activation function\")\n",
        "          plt.imshow(x.contiguous().detach().view(8,8).numpy(), cmap='Greys_r')\n",
        "          plt.show()\n",
        "        #Alternatively\n",
        "        #x = F.sigmoid(self.hidden(x))\n",
        "        \n",
        "        x = torch.matmul(x, self.W_out)\n",
        "        x = x + self.b_out\n",
        "        if log :\n",
        "          print(\"data after out layer forward function\")\n",
        "          plt.imshow(x.contiguous().detach().numpy(), cmap='Greys_r')\n",
        "          plt.show()\n",
        "        \n",
        "        x = F.log_softmax(x, dim=1)\n",
        "        #Alternatively\n",
        "        # Output layer with softmax activation\n",
        "        #x = F.log_softmax(self.output(x), dim=1)\n",
        "        \n",
        "        return x\n",
        "\n",
        "model = Network()"
      ],
      "execution_count": 0,
      "outputs": []
    },
    {
      "cell_type": "markdown",
      "metadata": {
        "id": "SdxLKB0Y7thO",
        "colab_type": "text"
      },
      "source": [
        "#how to feed an image to a neural network ?\n",
        "An image is actually a series of individual color pixels, where each color pixel is actuall made up of a mix of three colors. So, we can consider an image just as a matrix of numbers. This matrix is transformed into an array and it will feed the Neural Network."
      ]
    },
    {
      "cell_type": "code",
      "metadata": {
        "id": "X8v85bJ6em3G",
        "colab_type": "code",
        "colab": {}
      },
      "source": [
        "x = images[1]\n",
        "x.resize_(1, 784)\n",
        "proba = model.forward(x, log=True)"
      ],
      "execution_count": 0,
      "outputs": []
    },
    {
      "cell_type": "code",
      "metadata": {
        "id": "OJQIsfvmecsz",
        "colab_type": "code",
        "colab": {}
      },
      "source": [
        "print(proba)\n",
        "value, index = proba.max(1)\n",
        "\n",
        "print(\"image of classe {} at {:2f}%\".format(classes[index],value.data[0]*100))"
      ],
      "execution_count": 0,
      "outputs": []
    },
    {
      "cell_type": "markdown",
      "metadata": {
        "id": "J46zc6CDfznj",
        "colab_type": "text"
      },
      "source": [
        "**Learning Rate** : configurable hyperparameter used in the training of neural networks that has a small positive value, often in the range between 0.0 and 1.0. The learning rate controls how quickly the model is adapted to the problem.\\\n",
        "**Optimizer** : Package implementing various optimization algorithms. It will be used to optimize the gradients by tuning the Model parameters.\\\n",
        "**Nllloss** : The negative log likelihood loss. We use it to train the model for a classification problem with C classes.\\\n",
        "**Epochs** : Hyperparameter that indicates the number of passes through the entire training dataset the machine learning algorithm has completed.\n"
      ]
    },
    {
      "cell_type": "code",
      "metadata": {
        "id": "NET_eIPHewbm",
        "colab_type": "code",
        "colab": {}
      },
      "source": [
        "\n",
        "optimizer = torch.optim.Adam(model.parameters(), lr=0.003)\n",
        "\n",
        "# Define the loss\n",
        "criterion = nn.NLLLoss()\n",
        "\n",
        "##one step on learning process\n",
        "# Flatten images\n",
        "images = images.view(images.shape[0], -1)\n",
        "\n",
        "# Clear the gradients, do this because gradients are accumulated\n",
        "optimizer.zero_grad()\n",
        "# Forward pass, get our logits\n",
        "proba = model(images)\n",
        "# Calculate the loss with the logits and the labels\n",
        "loss = criterion(proba, labels)\n",
        "\n",
        "loss.backward()\n",
        "optimizer.step()\n",
        "#########\n",
        "\n",
        "def train(model, optimizer, criterion, images, labels):\n",
        "  epochs = 5\n",
        "  loss_hist = []\n",
        "  for e in range(epochs):\n",
        "      optimizer.zero_grad()\n",
        "      \n",
        "      output = model(images)\n",
        "      loss = criterion(output, labels)\n",
        "      loss.backward()\n",
        "      optimizer.step()\n",
        "          \n",
        "      loss_hist.append(loss.item())\n",
        "\n",
        "  plt.plot(loss_hist)\n",
        "  plt.ylabel(\"loss\")\n",
        "  plt.xlabel(\"epochs\")\n",
        "  plt.title(\"loss per epoch\")\n",
        "  plt.show()\n",
        "train(model, optimizer, criterion, images, labels)"
      ],
      "execution_count": 0,
      "outputs": []
    },
    {
      "cell_type": "code",
      "metadata": {
        "id": "fvQj5bMCe7zG",
        "colab_type": "code",
        "colab": {}
      },
      "source": [
        "# Evaluate the Model\n",
        "def view_classify(img, ps, version=\"MNIST\"):\n",
        "    ''' Function for viewing an image and it's predicted classes.\n",
        "    '''\n",
        "    ps = ps.data.numpy().squeeze()\n",
        "\n",
        "    fig, (ax1, ax2) = plt.subplots(figsize=(6,9), ncols=2)\n",
        "    ax1.imshow(img.resize_(1, 28, 28).numpy().squeeze())\n",
        "    ax1.axis('off')\n",
        "    ax2.barh(np.arange(10), ps)\n",
        "    ax2.set_aspect(0.1)\n",
        "    ax2.set_yticks(np.arange(10))\n",
        "    if version == \"MNIST\":\n",
        "        ax2.set_yticklabels(np.arange(10))\n",
        "    elif version == \"Fashion\":\n",
        "        ax2.set_yticklabels(['0 - zero', '1 - one', '2 - two', '3 - three', '4 - four', '5 - five', '6 - six', '7 - seven', '8 - eight', '9 - nine'] , size='small');\n",
        "    ax2.set_title('Class Probability')\n",
        "    ax2.set_xlim(0, 1.1)\n",
        "\n",
        "    plt.tight_layout()\n",
        "\n",
        "def evaluate(model, images):\n",
        "  # Get images from test set\n",
        "  test_images = images\n",
        "  # Prepare the input data\n",
        "  img = test_images.view(n_images, -1)\n",
        "  # Use the model to predict the images class\n",
        "  with torch.no_grad():\n",
        "      proba = model(img)\n",
        "  proba = torch.exp(proba)\n",
        "  # Display\n",
        "  for i in range(n_images):\n",
        "      view_classify(img[i].view(1, 28, 28), proba[i])"
      ],
      "execution_count": 0,
      "outputs": []
    },
    {
      "cell_type": "code",
      "metadata": {
        "id": "aePiEbS3fAgw",
        "colab_type": "code",
        "colab": {}
      },
      "source": [
        "# Predict single images\n",
        "n_images = 10\n",
        "evaluate(model, images[:n_images])"
      ],
      "execution_count": 0,
      "outputs": []
    },
    {
      "cell_type": "markdown",
      "metadata": {
        "id": "4UrcUt0aISrG",
        "colab_type": "text"
      },
      "source": [
        "#Using Batches"
      ]
    },
    {
      "cell_type": "code",
      "metadata": {
        "id": "tyzJCBbWfETh",
        "colab_type": "code",
        "colab": {}
      },
      "source": [
        "# Define a transform to normalize the data\n",
        "transform = transforms.Compose([transforms.ToTensor()])\n",
        "batch_size = 64\n",
        "# Download and load the training data\n",
        "trainset = datasets.MNIST('~/.pytorch/MNIST_data/', download=True, train=True, transform=transform)\n",
        "trainloader = torch.utils.data.DataLoader(trainset, batch_size=batch_size, shuffle=True)\n",
        "\n",
        "model = Network()\n",
        "optimizer = torch.optim.Adam(model.parameters(), lr=0.003)\n",
        "\n",
        "# Define the loss\n",
        "criterion = nn.NLLLoss()\n",
        "\n",
        "def train(model, optimizer, criterion, trainloader):\n",
        "  epochs = 5\n",
        "  loss_hist = []\n",
        "  acc_hist = []\n",
        "  for e in range(epochs):\n",
        "    running_loss = 0\n",
        "    accuracy = 0\n",
        "    for images, labels in trainloader:\n",
        "        # Flatten MNIST images into a 784 long vector\n",
        "        images = images.view(images.shape[0], -1)\n",
        "\n",
        "        # TODO: Training pass\n",
        "        optimizer.zero_grad()\n",
        "        \n",
        "        output = model(images)\n",
        "        loss = criterion(output, labels)\n",
        "        loss.backward()\n",
        "        optimizer.step()\n",
        "        running_loss += loss.item()\n",
        "    \n",
        "        top_p, top_class = torch.exp(output).topk(1, dim=1)\n",
        "        equals = top_class == labels.view(*top_class.shape)\n",
        "        accuracy += torch.mean(equals.type(torch.FloatTensor))\n",
        "        \n",
        "    acc_hist.append(accuracy/len(trainloader))\n",
        "    loss_hist.append(running_loss/len(trainloader))\n",
        "\n",
        "  plt.plot(loss_hist)\n",
        "  plt.ylabel(\"loss\")\n",
        "  plt.xlabel(\"epochs\")\n",
        "  plt.title(\"loss per epoch\")\n",
        "  plt.show()\n",
        "  plt.plot(acc_hist)\n",
        "  plt.ylabel(\"acc\")\n",
        "  plt.xlabel(\"epochs\")\n",
        "  plt.title(\"acc per epoch\")\n",
        "  plt.show()\n",
        "train(model, optimizer, criterion, trainloader)"
      ],
      "execution_count": 0,
      "outputs": []
    },
    {
      "cell_type": "code",
      "metadata": {
        "id": "IVplMo8FoG8t",
        "colab_type": "code",
        "colab": {}
      },
      "source": [
        "# Predict single images\n",
        "n_images = 10\n",
        "images, labels = next(iter(trainloader))\n",
        "evaluate(model, images[:n_images])"
      ],
      "execution_count": 0,
      "outputs": []
    },
    {
      "cell_type": "markdown",
      "metadata": {
        "id": "M92YTOb2G2L0",
        "colab_type": "text"
      },
      "source": [
        "#What if we normalize the data ?"
      ]
    },
    {
      "cell_type": "code",
      "metadata": {
        "id": "v4bEnRPtIKHM",
        "colab_type": "code",
        "colab": {}
      },
      "source": [
        "from torchvision import datasets, transforms\n",
        "\n",
        "# Define a transform to normalize the data\n",
        "transform = transforms.Compose([transforms.ToTensor(),\n",
        "                              transforms.Normalize((0.5,), (0.5,)),\n",
        "                              ])\n",
        "\n",
        "# Download and load the training data\n",
        "trainset = datasets.MNIST('~/.pytorch/MNIST_data/', download=True, train=True, transform=transform)\n",
        "trainloader = torch.utils.data.DataLoader(trainset, batch_size=64, shuffle=True)\n",
        "\n",
        "model = Network()\n",
        "optimizer = torch.optim.Adam(model.parameters(), lr=0.003)\n",
        "\n",
        "# Define the loss\n",
        "criterion = nn.NLLLoss()\n",
        "\n",
        "train(model, optimizer, criterion, trainloader)"
      ],
      "execution_count": 0,
      "outputs": []
    },
    {
      "cell_type": "code",
      "metadata": {
        "id": "xbIbkCi6odqz",
        "colab_type": "code",
        "colab": {}
      },
      "source": [
        "# Predict single images\n",
        "n_images = 10\n",
        "images, labels = next(iter(trainloader))\n",
        "evaluate(model, images[:n_images])"
      ],
      "execution_count": 0,
      "outputs": []
    },
    {
      "cell_type": "markdown",
      "metadata": {
        "id": "7YrzoiXHokS1",
        "colab_type": "text"
      },
      "source": [
        "**Split** : Process of splitting the whole data into train and test set. The train set will be feeded to the Model for the training, and the latter will be tested with the testing set.\\\n",
        "**Validation** : Process where the trained model is evaluated with a testing data set. This step comes after the training is completed.\\\n",
        "**Accuracy** : The measurement used to determine which model is best at identifying relationships and patterns between variables in a dataset based on the input data.\n"
      ]
    }
  ]
}