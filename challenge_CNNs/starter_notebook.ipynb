{
 "cells": [
  {
   "cell_type": "markdown",
   "metadata": {},
   "source": [
    "<img src=\"../assets/images/Cover.png\" alt=\"Cover\" title=\"AI2E Cover\" />"
   ]
  },
  {
   "cell_type": "markdown",
   "metadata": {},
   "source": [
    "## Challenge 2 : Use CNNs to Classify Handwritten Digits\n",
    "\n",
    "This is the second challenge of AI2E. After 2 weeks and half of learning, you have now the skills to build a neural network, train it and test it. \n",
    "\n",
    "In the neural network workshop, you created a special fully-connected neural network to classify handwritten digits from the MNIST Dataset. You considered back then that each pixel is a feature (Thus you had 28x28= 784 input nodes). \n",
    "\n",
    "In the next workshop(CNNs), you learnt a better way to extract features from images through a serie of convolution & pooling layers. We want you to apply this concept to the same task! \n",
    "\n",
    "This starter notebook, contains the code that downloads the MNIST Dataset and loads it into PyTorch DataLoader. You'll need to :\n",
    "* Define the different transformation to apply to the image\n",
    "* Define your neural net architecture\n",
    "* Test different hyper parameters \n",
    "* Visualize the results \n",
    "* Test your predictions\n",
    "\n",
    "Please send your HTML version of the notebook to our email address schoolofai.algiers@esi.dz \n",
    "\n",
    "Good Luck ! =) \n",
    "Note : This challenge is required for you to get the certificate of AI2E."
   ]
  },
  {
   "cell_type": "code",
   "execution_count": 2,
   "metadata": {},
   "outputs": [],
   "source": [
    "import torch\n",
    "from torch import nn\n",
    "import torch.nn.functional as F\n",
    "\n",
    "import matplotlib.pyplot as plt\n",
    "import numpy as np"
   ]
  },
  {
   "cell_type": "code",
   "execution_count": null,
   "metadata": {},
   "outputs": [],
   "source": [
    "from torchvision import datasets, transforms\n",
    "\n",
    "# TODO : define the transformations\n",
    "transform = transforms.Compose([...])\n",
    "\n",
    "# Download and load the training data\n",
    "trainset = datasets.MNIST('~/.pytorch/MNIST_data/', download=True, train=True, transform=transform)\n",
    "testset =  datasets.MNIST('~/.pytorch/MNIST_data/', download=True, train=False, transform=transform)\n",
    "\n",
    "batch_size_train = \n",
    "batch_size_test = \n",
    "\n",
    "# Define the dataloaders\n",
    "trainloader = torch.utils.data.DataLoader(trainset, batch_size=batch_size_train, shuffle=True)\n",
    "testloader =  torch.utils.data.DataLoader(testset, batch_size=batch_size_test, shuffle=True)"
   ]
  }
 ],
 "metadata": {
  "kernelspec": {
   "display_name": "Python 3",
   "language": "python",
   "name": "python3"
  },
  "language_info": {
   "codemirror_mode": {
    "name": "ipython",
    "version": 3
   },
   "file_extension": ".py",
   "mimetype": "text/x-python",
   "name": "python",
   "nbconvert_exporter": "python",
   "pygments_lexer": "ipython3",
   "version": "3.7.4"
  }
 },
 "nbformat": 4,
 "nbformat_minor": 2
}
