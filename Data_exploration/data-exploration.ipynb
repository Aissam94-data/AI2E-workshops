{
 "cells": [
  {
   "cell_type": "markdown",
   "metadata": {},
   "source": [
    "<img src=\"../assets/images/Cover.png\" alt=\"Cover\" title=\"AI2E Cover\" />"
   ]
  },
  {
   "cell_type": "markdown",
   "metadata": {},
   "source": [
    "## AI2E - [Workshop 2] - [Data exploration] \n",
    "\n",
    "We will go through the essential steps to explore and get the most benefit from our data. \n",
    "\n",
    "### Content \n",
    "1. Get started with data\n",
    "2. Feature selection\n",
    "3. Feature engineering\n",
    "4. Trait missing values\n",
    "5. Data visualisation\n",
    "6. Handle outliers\n",
    "7. Encode data\n",
    "8. Scaling\n",
    "9. Conclusion"
   ]
  },
  {
   "cell_type": "markdown",
   "metadata": {},
   "source": [
    "### 1. Get started with data:\n",
    "The dataset provided by an algerian company includes variables about adress of depart, adress of arrival, distance, ... \n",
    "    The training dataset provided here is a subset of over 60,000 samples.\n",
    "\n",
    "#### variables description\n",
    "<img src=\"../assets/images/w2_Vdesc.PNG\" title=\"variables description\" />\n"
   ]
  },
  {
   "cell_type": "code",
   "execution_count": 1,
   "metadata": {},
   "outputs": [],
   "source": [
    "# imports\n",
    "import pandas as pd\n",
    "from datetime import date\n",
    "from matplotlib import pyplot as plt"
   ]
  },
  {
   "cell_type": "code",
   "execution_count": 2,
   "metadata": {
    "scrolled": true
   },
   "outputs": [
    {
     "data": {
      "text/html": [
       "<div>\n",
       "<style scoped>\n",
       "    .dataframe tbody tr th:only-of-type {\n",
       "        vertical-align: middle;\n",
       "    }\n",
       "\n",
       "    .dataframe tbody tr th {\n",
       "        vertical-align: top;\n",
       "    }\n",
       "\n",
       "    .dataframe thead th {\n",
       "        text-align: right;\n",
       "    }\n",
       "</style>\n",
       "<table border=\"1\" class=\"dataframe\">\n",
       "  <thead>\n",
       "    <tr style=\"text-align: right;\">\n",
       "      <th></th>\n",
       "      <th>travel_id</th>\n",
       "      <th>travel_type</th>\n",
       "      <th>car_type</th>\n",
       "      <th>driver_id</th>\n",
       "      <th>address_of_departure</th>\n",
       "      <th>arrival_address</th>\n",
       "      <th>lat_and_long_of_arrival_address</th>\n",
       "      <th>date_of_travel</th>\n",
       "      <th>time_of_travel</th>\n",
       "      <th>estimated_time</th>\n",
       "      <th>distance</th>\n",
       "      <th>options</th>\n",
       "      <th>state</th>\n",
       "      <th>price</th>\n",
       "    </tr>\n",
       "  </thead>\n",
       "  <tbody>\n",
       "    <tr>\n",
       "      <td>0</td>\n",
       "      <td>27550488</td>\n",
       "      <td>advance</td>\n",
       "      <td>Mini Citadine</td>\n",
       "      <td>NaN</td>\n",
       "      <td>AXA Assurances Algérie, Boulevard du 11 Decemb...</td>\n",
       "      <td>Clinique Krim Belkacem, Boulevard Colonel Krim...</td>\n",
       "      <td>36.770681600000003,3.0510609999999998</td>\n",
       "      <td>2019-09-29 23:55:00</td>\n",
       "      <td>23:55:00</td>\n",
       "      <td>13</td>\n",
       "      <td>6053.0</td>\n",
       "      <td>NaN</td>\n",
       "      <td>cancelled</td>\n",
       "      <td>0.0</td>\n",
       "    </tr>\n",
       "    <tr>\n",
       "      <td>1</td>\n",
       "      <td>28026204</td>\n",
       "      <td>live</td>\n",
       "      <td>Mini Citadine</td>\n",
       "      <td>43166.0</td>\n",
       "      <td>Unnamed Road Dar El Beïda</td>\n",
       "      <td>136 logements, bloc D، Route de Ouled Fayet Ch...</td>\n",
       "      <td>36.745614799999998,2.9428641</td>\n",
       "      <td>2019-09-29 23:54:36</td>\n",
       "      <td>23:54:00</td>\n",
       "      <td>33</td>\n",
       "      <td>31895.0</td>\n",
       "      <td>NaN</td>\n",
       "      <td>finished</td>\n",
       "      <td>133300.0</td>\n",
       "    </tr>\n",
       "    <tr>\n",
       "      <td>2</td>\n",
       "      <td>28026119</td>\n",
       "      <td>live</td>\n",
       "      <td>Mini Citadine</td>\n",
       "      <td>30759.0</td>\n",
       "      <td>Office Riadh El Feth ,bois des arcades ,El Mad...</td>\n",
       "      <td>79 Rue Fabri MARCELLO, Bir Mourad Raïs, 阿尔及利亚</td>\n",
       "      <td>36.736257999999999,3.0616660000000002</td>\n",
       "      <td>2019-09-29 23:54:27</td>\n",
       "      <td>23:54:00</td>\n",
       "      <td>7</td>\n",
       "      <td>3056.0</td>\n",
       "      <td>NaN</td>\n",
       "      <td>finished</td>\n",
       "      <td>32600.0</td>\n",
       "    </tr>\n",
       "    <tr>\n",
       "      <td>3</td>\n",
       "      <td>28025871</td>\n",
       "      <td>live</td>\n",
       "      <td>Mini Citadine</td>\n",
       "      <td>32536.0</td>\n",
       "      <td>N24 Bordj El Kiffan</td>\n",
       "      <td>Dar El Beïda, Algeria</td>\n",
       "      <td>36.727856899999999,3.2181302000000001</td>\n",
       "      <td>2019-09-29 23:47:25</td>\n",
       "      <td>23:47:00</td>\n",
       "      <td>7</td>\n",
       "      <td>6092.0</td>\n",
       "      <td>NaN</td>\n",
       "      <td>finished</td>\n",
       "      <td>38300.0</td>\n",
       "    </tr>\n",
       "    <tr>\n",
       "      <td>4</td>\n",
       "      <td>28026102</td>\n",
       "      <td>live</td>\n",
       "      <td>Mini Citadine</td>\n",
       "      <td>40592.0</td>\n",
       "      <td>Lily Rose, Hydra, Algeria</td>\n",
       "      <td>214 résidence، Bois des Cars 2, Deli Ibrahim, ...</td>\n",
       "      <td>36.753667999999998,2.9762750000000002</td>\n",
       "      <td>2019-09-29 23:46:35</td>\n",
       "      <td>23:46:00</td>\n",
       "      <td>11</td>\n",
       "      <td>6928.0</td>\n",
       "      <td>NaN</td>\n",
       "      <td>finished</td>\n",
       "      <td>47800.0</td>\n",
       "    </tr>\n",
       "  </tbody>\n",
       "</table>\n",
       "</div>"
      ],
      "text/plain": [
       "   travel_id travel_type       car_type  driver_id  \\\n",
       "0   27550488     advance  Mini Citadine        NaN   \n",
       "1   28026204        live  Mini Citadine    43166.0   \n",
       "2   28026119        live  Mini Citadine    30759.0   \n",
       "3   28025871        live  Mini Citadine    32536.0   \n",
       "4   28026102        live  Mini Citadine    40592.0   \n",
       "\n",
       "                                address_of_departure  \\\n",
       "0  AXA Assurances Algérie, Boulevard du 11 Decemb...   \n",
       "1                          Unnamed Road Dar El Beïda   \n",
       "2  Office Riadh El Feth ,bois des arcades ,El Mad...   \n",
       "3                                N24 Bordj El Kiffan   \n",
       "4                          Lily Rose, Hydra, Algeria   \n",
       "\n",
       "                                     arrival_address  \\\n",
       "0  Clinique Krim Belkacem, Boulevard Colonel Krim...   \n",
       "1  136 logements, bloc D، Route de Ouled Fayet Ch...   \n",
       "2      79 Rue Fabri MARCELLO, Bir Mourad Raïs, 阿尔及利亚   \n",
       "3                              Dar El Beïda, Algeria   \n",
       "4  214 résidence، Bois des Cars 2, Deli Ibrahim, ...   \n",
       "\n",
       "         lat_and_long_of_arrival_address       date_of_travel time_of_travel  \\\n",
       "0  36.770681600000003,3.0510609999999998  2019-09-29 23:55:00       23:55:00   \n",
       "1           36.745614799999998,2.9428641  2019-09-29 23:54:36       23:54:00   \n",
       "2  36.736257999999999,3.0616660000000002  2019-09-29 23:54:27       23:54:00   \n",
       "3  36.727856899999999,3.2181302000000001  2019-09-29 23:47:25       23:47:00   \n",
       "4  36.753667999999998,2.9762750000000002  2019-09-29 23:46:35       23:46:00   \n",
       "\n",
       "   estimated_time  distance options      state     price  \n",
       "0              13    6053.0     NaN  cancelled       0.0  \n",
       "1              33   31895.0     NaN   finished  133300.0  \n",
       "2               7    3056.0     NaN   finished   32600.0  \n",
       "3               7    6092.0     NaN   finished   38300.0  \n",
       "4              11    6928.0     NaN   finished   47800.0  "
      ]
     },
     "execution_count": 2,
     "metadata": {},
     "output_type": "execute_result"
    }
   ],
   "source": [
    "# read the data\n",
    "df = pd.read_csv('data/vtc_data.csv')\n",
    "df.head()"
   ]
  },
  {
   "cell_type": "code",
   "execution_count": 3,
   "metadata": {},
   "outputs": [
    {
     "data": {
      "text/html": [
       "<div>\n",
       "<style scoped>\n",
       "    .dataframe tbody tr th:only-of-type {\n",
       "        vertical-align: middle;\n",
       "    }\n",
       "\n",
       "    .dataframe tbody tr th {\n",
       "        vertical-align: top;\n",
       "    }\n",
       "\n",
       "    .dataframe thead th {\n",
       "        text-align: right;\n",
       "    }\n",
       "</style>\n",
       "<table border=\"1\" class=\"dataframe\">\n",
       "  <thead>\n",
       "    <tr style=\"text-align: right;\">\n",
       "      <th></th>\n",
       "      <th>travel_id</th>\n",
       "      <th>driver_id</th>\n",
       "      <th>estimated_time</th>\n",
       "      <th>distance</th>\n",
       "      <th>price</th>\n",
       "    </tr>\n",
       "  </thead>\n",
       "  <tbody>\n",
       "    <tr>\n",
       "      <td>count</td>\n",
       "      <td>6.533500e+04</td>\n",
       "      <td>60229.000000</td>\n",
       "      <td>65335.000000</td>\n",
       "      <td>65078.000000</td>\n",
       "      <td>6.512100e+04</td>\n",
       "    </tr>\n",
       "    <tr>\n",
       "      <td>mean</td>\n",
       "      <td>2.698962e+07</td>\n",
       "      <td>36458.806904</td>\n",
       "      <td>20.731981</td>\n",
       "      <td>12456.091091</td>\n",
       "      <td>4.291896e+04</td>\n",
       "    </tr>\n",
       "    <tr>\n",
       "      <td>std</td>\n",
       "      <td>5.911326e+05</td>\n",
       "      <td>5170.877670</td>\n",
       "      <td>21.092258</td>\n",
       "      <td>16331.355123</td>\n",
       "      <td>4.961151e+04</td>\n",
       "    </tr>\n",
       "    <tr>\n",
       "      <td>min</td>\n",
       "      <td>1.147333e+07</td>\n",
       "      <td>14770.000000</td>\n",
       "      <td>0.000000</td>\n",
       "      <td>0.000000</td>\n",
       "      <td>-6.800000e+04</td>\n",
       "    </tr>\n",
       "    <tr>\n",
       "      <td>25%</td>\n",
       "      <td>2.646277e+07</td>\n",
       "      <td>32376.000000</td>\n",
       "      <td>11.000000</td>\n",
       "      <td>4851.000000</td>\n",
       "      <td>0.000000e+00</td>\n",
       "    </tr>\n",
       "    <tr>\n",
       "      <td>50%</td>\n",
       "      <td>2.691974e+07</td>\n",
       "      <td>36638.000000</td>\n",
       "      <td>17.000000</td>\n",
       "      <td>8960.500000</td>\n",
       "      <td>3.820000e+04</td>\n",
       "    </tr>\n",
       "    <tr>\n",
       "      <td>75%</td>\n",
       "      <td>2.751333e+07</td>\n",
       "      <td>41457.000000</td>\n",
       "      <td>26.000000</td>\n",
       "      <td>16490.750000</td>\n",
       "      <td>6.080000e+04</td>\n",
       "    </tr>\n",
       "    <tr>\n",
       "      <td>max</td>\n",
       "      <td>2.805757e+07</td>\n",
       "      <td>44197.000000</td>\n",
       "      <td>618.000000</td>\n",
       "      <td>575798.000000</td>\n",
       "      <td>2.250000e+06</td>\n",
       "    </tr>\n",
       "  </tbody>\n",
       "</table>\n",
       "</div>"
      ],
      "text/plain": [
       "          travel_id     driver_id  estimated_time       distance         price\n",
       "count  6.533500e+04  60229.000000    65335.000000   65078.000000  6.512100e+04\n",
       "mean   2.698962e+07  36458.806904       20.731981   12456.091091  4.291896e+04\n",
       "std    5.911326e+05   5170.877670       21.092258   16331.355123  4.961151e+04\n",
       "min    1.147333e+07  14770.000000        0.000000       0.000000 -6.800000e+04\n",
       "25%    2.646277e+07  32376.000000       11.000000    4851.000000  0.000000e+00\n",
       "50%    2.691974e+07  36638.000000       17.000000    8960.500000  3.820000e+04\n",
       "75%    2.751333e+07  41457.000000       26.000000   16490.750000  6.080000e+04\n",
       "max    2.805757e+07  44197.000000      618.000000  575798.000000  2.250000e+06"
      ]
     },
     "execution_count": 3,
     "metadata": {},
     "output_type": "execute_result"
    }
   ],
   "source": [
    "#get information about integer values\n",
    "df.describe()"
   ]
  },
  {
   "cell_type": "markdown",
   "metadata": {},
   "source": [
    "<b>std: </b>the standard deviation is a measure of the amount of variation or dispersion of a set of values\n"
   ]
  },
  {
   "cell_type": "code",
   "execution_count": 4,
   "metadata": {},
   "outputs": [
    {
     "name": "stdout",
     "output_type": "stream",
     "text": [
      "<class 'pandas.core.frame.DataFrame'>\n",
      "RangeIndex: 65335 entries, 0 to 65334\n",
      "Data columns (total 14 columns):\n",
      "travel_id                          65335 non-null int64\n",
      "travel_type                        65335 non-null object\n",
      "car_type                           65335 non-null object\n",
      "driver_id                          60229 non-null float64\n",
      "address_of_departure               65335 non-null object\n",
      "arrival_address                    65292 non-null object\n",
      "lat_and_long_of_arrival_address    65292 non-null object\n",
      "date_of_travel                     65335 non-null object\n",
      "time_of_travel                     65121 non-null object\n",
      "estimated_time                     65335 non-null int64\n",
      "distance                           65078 non-null float64\n",
      "options                            1152 non-null object\n",
      "state                              65335 non-null object\n",
      "price                              65121 non-null float64\n",
      "dtypes: float64(3), int64(2), object(9)\n",
      "memory usage: 7.0+ MB\n"
     ]
    }
   ],
   "source": [
    "#get an overall look about the data\n",
    "df.info()"
   ]
  },
  {
   "cell_type": "code",
   "execution_count": null,
   "metadata": {},
   "outputs": [],
   "source": [
    "#check the duration of the whole data\n",
    "print(\"First date : \", df[\"date_of_travel\"].min())\n",
    "print(\"Last date : \", df[\"date_of_travel\"].max())"
   ]
  },
  {
   "cell_type": "markdown",
   "metadata": {},
   "source": [
    "### 2. Feature selection\n",
    "Feature Selection is one of the core concepts in machine learning which hugely impacts the performance of your model. The data features that you use to train your machine learning models have a huge influence on the performance you can achieve.  \n",
    "<b> Irrelevant or partially relevant features can negatively impact model performance. </b>"
   ]
  },
  {
   "cell_type": "code",
   "execution_count": null,
   "metadata": {},
   "outputs": [],
   "source": [
    "#exo: Define our features and target"
   ]
  },
  {
   "cell_type": "code",
   "execution_count": null,
   "metadata": {},
   "outputs": [],
   "source": [
    "chosen_features = []\n",
    "target_name = \"\""
   ]
  },
  {
   "cell_type": "code",
   "execution_count": null,
   "metadata": {},
   "outputs": [],
   "source": [
    "features = df[chosen_features]\n",
    "labels = df[target_name]"
   ]
  },
  {
   "cell_type": "markdown",
   "metadata": {},
   "source": [
    "### 3. Feature engineering\n",
    "Feature engineering is the process of using domain knowledge of the data to create features that make machine learning algorithms work."
   ]
  },
  {
   "cell_type": "code",
   "execution_count": null,
   "metadata": {},
   "outputs": [],
   "source": [
    "# add hour and day columns\n",
    "\n",
    "features['date_of_travel'] = pd.DataFrame(pd.to_datetime(features.date_of_travel, format=\"%Y-%m-%d %H:%M:%S\"))\n",
    "\n",
    "# create a new column\n",
    "features[\"hour\"] = features[\"date_of_travel\"].dt.hour\n",
    "features[\"day_name\"] = features[\"date_of_travel\"].dt.day_name()\n",
    "# drop the \"date of travel\" column\n",
    "features.drop([\"date_of_travel\"], axis = 1, inplace = True)\n",
    "features.head()"
   ]
  },
  {
   "cell_type": "code",
   "execution_count": null,
   "metadata": {},
   "outputs": [],
   "source": [
    "# separate the lat and lon columns\n",
    "features[['lat','lon']] = features.lat_and_long_of_arrival_address.str.split(\",\", expand=True)\n",
    "features[\"lat\"] = pd.to_numeric(features[\"lat\"], downcast=\"float\")\n",
    "features[\"lon\"] = pd.to_numeric(features[\"lon\"], downcast=\"float\")\n",
    "features.drop([\"lat_and_long_of_arrival_address\"], axis = 1, inplace = True)\n",
    "features.head()"
   ]
  },
  {
   "cell_type": "markdown",
   "metadata": {},
   "source": [
    "### 4. Trait missing values\n",
    "Missing values are one of the most common problems you can encounter when you try to prepare your data for machine learning. The reason for the missing values might be human errors, interruptions in the data flow, privacy concerns, and so on. Whatever is the reason, missing values affect the performance of the machine learning models."
   ]
  },
  {
   "cell_type": "code",
   "execution_count": null,
   "metadata": {},
   "outputs": [],
   "source": [
    "# check if there are null values in each column\n",
    "for col in features.columns :\n",
    "    print(col,':' ,features[col].isnull().sum())"
   ]
  },
  {
   "cell_type": "code",
   "execution_count": null,
   "metadata": {},
   "outputs": [],
   "source": [
    "#trait null values\n",
    "features[\"distance\"].fillna(features[\"distance\"].mean(), inplace = True)\n",
    "features[\"lat\"].fillna(features[\"lat\"].mean(), inplace = True)\n",
    "features[\"lon\"].fillna(features[\"lon\"].mean(), inplace = True)"
   ]
  },
  {
   "cell_type": "code",
   "execution_count": null,
   "metadata": {},
   "outputs": [],
   "source": [
    "# exo: confirm that we don't have null values"
   ]
  },
  {
   "cell_type": "code",
   "execution_count": null,
   "metadata": {},
   "outputs": [],
   "source": []
  },
  {
   "cell_type": "markdown",
   "metadata": {},
   "source": [
    "### 5. Data visualisation\n",
    "Data visualization is the graphic representation of data. It involves producing images that communicate relationships among the represented data to viewers of the images."
   ]
  },
  {
   "cell_type": "code",
   "execution_count": null,
   "metadata": {},
   "outputs": [],
   "source": [
    "# heatmap to show correlation\n",
    "import seaborn as sns\n",
    "# we need to use the labels column\n",
    "corr = pd.concat([features, labels], axis = 1).corr()\n",
    "sns.heatmap(corr, \n",
    "        xticklabels=corr.columns,\n",
    "        yticklabels=corr.columns)"
   ]
  },
  {
   "cell_type": "markdown",
   "metadata": {},
   "source": [
    "<b>correlation: </b> refers to the degree to which a pair of variables are linearly related."
   ]
  },
  {
   "cell_type": "code",
   "execution_count": null,
   "metadata": {
    "scrolled": false
   },
   "outputs": [],
   "source": [
    "# print a chart of the estimated time in function of the distance\n",
    "plt.scatter(features['distance'], labels)\n",
    "plt.xlabel(\"distance\")\n",
    "plt.ylabel(\"estimated time\")\n",
    "plt.show()"
   ]
  },
  {
   "cell_type": "markdown",
   "metadata": {},
   "source": [
    "### 6. Handle outliers\n",
    "Before mentioning how outliers can be handled, I want to state that the best way to detect the outliers is to demonstrate the data visually. All other statistical methodologies are open to making mistakes, whereas visualizing the outliers gives a chance to take a decision with high precision."
   ]
  },
  {
   "cell_type": "code",
   "execution_count": null,
   "metadata": {},
   "outputs": [],
   "source": [
    "# exo: remove all the points which have estimated time > 400"
   ]
  },
  {
   "cell_type": "code",
   "execution_count": null,
   "metadata": {},
   "outputs": [],
   "source": []
  },
  {
   "cell_type": "code",
   "execution_count": null,
   "metadata": {},
   "outputs": [],
   "source": [
    "# exo: re-print the chart to confirm"
   ]
  },
  {
   "cell_type": "code",
   "execution_count": null,
   "metadata": {},
   "outputs": [],
   "source": []
  },
  {
   "cell_type": "markdown",
   "metadata": {},
   "source": [
    "<b>Note: </b> at this stage and with the informations that we have, we can do features selection again, and that for choosing <b> the best </b> of the features."
   ]
  },
  {
   "cell_type": "markdown",
   "metadata": {},
   "source": [
    "### 7. Encode data\n",
    "One-hot encoding is one of the most common encoding methods in machine learning. This method spreads the values in a column to multiple flag columns and assigns 0 or 1 to them. These binary values express the relationship between grouped and encoded column."
   ]
  },
  {
   "cell_type": "code",
   "execution_count": null,
   "metadata": {},
   "outputs": [],
   "source": [
    "#Encode data\n",
    "def oneHotEncode(df, col):\n",
    "    dfDummies = pd.get_dummies(df[col], prefix = col)\n",
    "    df = pd.concat([df, dfDummies], axis=1)\n",
    "    \n",
    "    # write youe code here\n",
    "    \n",
    "    return df"
   ]
  },
  {
   "cell_type": "code",
   "execution_count": null,
   "metadata": {},
   "outputs": [],
   "source": [
    "# exo: complete the oneHotEncode function (drop the current column)"
   ]
  },
  {
   "cell_type": "code",
   "execution_count": null,
   "metadata": {},
   "outputs": [],
   "source": []
  },
  {
   "cell_type": "code",
   "execution_count": null,
   "metadata": {},
   "outputs": [],
   "source": [
    "# applying the function to our data\n",
    "features = oneHotEncode(features, 'travel_type')\n",
    "features = oneHotEncode(features, 'car_type')\n",
    "features = oneHotEncode(features, 'day_name')\n",
    "features.head()"
   ]
  },
  {
   "cell_type": "markdown",
   "metadata": {},
   "source": [
    "### 8. Scaling\n",
    "In most cases, the numerical features of the dataset do not have a certain range and they differ from each other. In real life, it is nonsense to expect age and income columns to have the same range. But from the machine learning point of view, how these two columns can be compared?  \n",
    "<b> Scaling </b> solves this problem. The continuous features become identical in terms of the range, after a scaling process."
   ]
  },
  {
   "cell_type": "code",
   "execution_count": null,
   "metadata": {},
   "outputs": [],
   "source": [
    "#scale data\n",
    "def scale(df, cols):     \n",
    "    for col in cols:\n",
    "        \n",
    "        # write your code here: \n",
    "    return df\n",
    "features = scale(features, [\"distance\", \"hour\"]) \n",
    "features.head()"
   ]
  },
  {
   "cell_type": "code",
   "execution_count": null,
   "metadata": {},
   "outputs": [],
   "source": [
    "# exo: apply min-max scaling in the previous function"
   ]
  },
  {
   "cell_type": "code",
   "execution_count": null,
   "metadata": {},
   "outputs": [],
   "source": []
  },
  {
   "cell_type": "markdown",
   "metadata": {},
   "source": [
    "### 9. Conclusion\n",
    "\n",
    "You are now capable to exploit data and extract the most useful informations from it.\n",
    "\n",
    "in the next lesson you will learn how to use the our final data to create and train a model."
   ]
  }
 ],
 "metadata": {
  "kernelspec": {
   "display_name": "Python 3",
   "language": "python",
   "name": "python3"
  },
  "language_info": {
   "codemirror_mode": {
    "name": "ipython",
    "version": 3
   },
   "file_extension": ".py",
   "mimetype": "text/x-python",
   "name": "python",
   "nbconvert_exporter": "python",
   "pygments_lexer": "ipython3",
   "version": "3.7.4"
  }
 },
 "nbformat": 4,
 "nbformat_minor": 2
}
